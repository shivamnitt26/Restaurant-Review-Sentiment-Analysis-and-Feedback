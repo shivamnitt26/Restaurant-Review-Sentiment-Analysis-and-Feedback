{
 "cells": [
  {
   "cell_type": "markdown",
   "metadata": {},
   "source": [
    "# Restaurant Review Sentiment Analysis and Feedback\n",
    "This project focuses on building a machine learning model to analyze and classify customer reviews of restaurants as either positive or negative. The goal is to understand customer sentiments and provide actionable insights based on the textual feedback.\n",
    "\n",
    "## Project Overview\n",
    "Restaurants receive numerous reviews daily, and manually analyzing these reviews to gauge customer satisfaction can be time-consuming and inefficient. By leveraging Natural Language Processing (NLP) techniques and machine learning algorithms, this project automates the sentiment analysis process, enabling quick and accurate identification of customer opinions."
   ]
  },
  {
   "cell_type": "markdown",
   "metadata": {},
   "source": [
    "## 1. Importing Libraries\n",
    "Description: Importing necessary libraries for data processing, machine learning, and sentiment analysis."
   ]
  },
  {
   "cell_type": "code",
   "execution_count": 1,
   "metadata": {
    "application/vnd.databricks.v1+cell": {
     "cellMetadata": {
      "byteLimit": 2048000,
      "rowLimit": 10000
     },
     "inputWidgets": {},
     "nuid": "2d2cb9ce-7e86-4aa8-9d7b-fe1d877c3f13",
     "showTitle": false,
     "title": ""
    }
   },
   "outputs": [
    {
     "name": "stderr",
     "output_type": "stream",
     "text": [
      "[nltk_data] Downloading package stopwords to\n",
      "[nltk_data]     C:\\Users\\91757\\AppData\\Roaming\\nltk_data...\n",
      "[nltk_data]   Package stopwords is already up-to-date!\n",
      "[nltk_data] Downloading package vader_lexicon to\n",
      "[nltk_data]     C:\\Users\\91757\\AppData\\Roaming\\nltk_data...\n",
      "[nltk_data]   Package vader_lexicon is already up-to-date!\n"
     ]
    }
   ],
   "source": [
    "# Importing the libraries\n",
    "import numpy as np\n",
    "import matplotlib.pyplot as plt\n",
    "import pandas as pd\n",
    "import re\n",
    "import nltk\n",
    "from nltk.corpus import stopwords\n",
    "from nltk.stem.porter import PorterStemmer\n",
    "from sklearn.feature_extraction.text import TfidfVectorizer\n",
    "from sklearn.model_selection import train_test_split\n",
    "from sklearn.ensemble import RandomForestClassifier\n",
    "from sklearn.metrics import accuracy_score, classification_report, confusion_matrix\n",
    "from sklearn.model_selection import GridSearchCV\n",
    "\n",
    "# Downloading NLTK data\n",
    "nltk.download('stopwords')\n",
    "nltk.download('vader_lexicon')\n",
    "from nltk.sentiment.vader import SentimentIntensityAnalyzer\n",
    "\n",
    "\n",
    "\n"
   ]
  },
  {
   "cell_type": "markdown",
   "metadata": {},
   "source": [
    "## 2. Loading and Preprocessing Data\n",
    "Loading the dataset and displaying the first few rows to understand the structure."
   ]
  },
  {
   "cell_type": "code",
   "execution_count": 2,
   "metadata": {},
   "outputs": [
    {
     "data": {
      "text/html": [
       "<div>\n",
       "<style scoped>\n",
       "    .dataframe tbody tr th:only-of-type {\n",
       "        vertical-align: middle;\n",
       "    }\n",
       "\n",
       "    .dataframe tbody tr th {\n",
       "        vertical-align: top;\n",
       "    }\n",
       "\n",
       "    .dataframe thead th {\n",
       "        text-align: right;\n",
       "    }\n",
       "</style>\n",
       "<table border=\"1\" class=\"dataframe\">\n",
       "  <thead>\n",
       "    <tr style=\"text-align: right;\">\n",
       "      <th></th>\n",
       "      <th>Review</th>\n",
       "      <th>Liked</th>\n",
       "    </tr>\n",
       "  </thead>\n",
       "  <tbody>\n",
       "    <tr>\n",
       "      <th>0</th>\n",
       "      <td>Wow... Loved this place.</td>\n",
       "      <td>1</td>\n",
       "    </tr>\n",
       "    <tr>\n",
       "      <th>1</th>\n",
       "      <td>Crust is not good.</td>\n",
       "      <td>0</td>\n",
       "    </tr>\n",
       "    <tr>\n",
       "      <th>2</th>\n",
       "      <td>Not tasty and the texture was just nasty.</td>\n",
       "      <td>0</td>\n",
       "    </tr>\n",
       "    <tr>\n",
       "      <th>3</th>\n",
       "      <td>Stopped by during the late May bank holiday of...</td>\n",
       "      <td>1</td>\n",
       "    </tr>\n",
       "    <tr>\n",
       "      <th>4</th>\n",
       "      <td>The selection on the menu was great and so wer...</td>\n",
       "      <td>1</td>\n",
       "    </tr>\n",
       "    <tr>\n",
       "      <th>5</th>\n",
       "      <td>Now I am getting angry and I want my damn pho.</td>\n",
       "      <td>0</td>\n",
       "    </tr>\n",
       "    <tr>\n",
       "      <th>6</th>\n",
       "      <td>Honeslty it didn't taste THAT fresh.)</td>\n",
       "      <td>0</td>\n",
       "    </tr>\n",
       "    <tr>\n",
       "      <th>7</th>\n",
       "      <td>The potatoes were like rubber and you could te...</td>\n",
       "      <td>0</td>\n",
       "    </tr>\n",
       "    <tr>\n",
       "      <th>8</th>\n",
       "      <td>The fries were great too.</td>\n",
       "      <td>1</td>\n",
       "    </tr>\n",
       "    <tr>\n",
       "      <th>9</th>\n",
       "      <td>A great touch.</td>\n",
       "      <td>1</td>\n",
       "    </tr>\n",
       "  </tbody>\n",
       "</table>\n",
       "</div>"
      ],
      "text/plain": [
       "                                              Review  Liked\n",
       "0                           Wow... Loved this place.      1\n",
       "1                                 Crust is not good.      0\n",
       "2          Not tasty and the texture was just nasty.      0\n",
       "3  Stopped by during the late May bank holiday of...      1\n",
       "4  The selection on the menu was great and so wer...      1\n",
       "5     Now I am getting angry and I want my damn pho.      0\n",
       "6              Honeslty it didn't taste THAT fresh.)      0\n",
       "7  The potatoes were like rubber and you could te...      0\n",
       "8                          The fries were great too.      1\n",
       "9                                     A great touch.      1"
      ]
     },
     "execution_count": 2,
     "metadata": {},
     "output_type": "execute_result"
    }
   ],
   "source": [
    "# Loading the dataset\n",
    "# Use raw string literal to avoid issues with file path\n",
    "data = pd.read_csv('Restaurant_Reviews.tsv', sep='\\t', quoting=3)\n",
    "\n",
    "# Display the first few rows of the dataset\n",
    "data.head(10)"
   ]
  },
  {
   "cell_type": "markdown",
   "metadata": {},
   "source": [
    "## 3. Text Cleaning Function\n",
    "Defining a function to clean and preprocess the text data, including removing HTML tags, non-letter characters, and stopwords, as well as applying stemming."
   ]
  },
  {
   "cell_type": "code",
   "execution_count": 3,
   "metadata": {},
   "outputs": [],
   "source": [
    "# Function to clean text data\n",
    "def clean_text(review):\n",
    "    # Remove HTML tags\n",
    "    review = re.sub('<.*?>', ' ', review)  \n",
    "    # Keep only letters\n",
    "    review = re.sub('[^a-zA-Z]', ' ', review)  \n",
    "    # Convert to lowercase\n",
    "    review = review.lower()  \n",
    "    # Split into words\n",
    "    review = review.split()  \n",
    "    # Initialize PorterStemmer for stemming\n",
    "    ps = PorterStemmer()  \n",
    "    # Remove stopwords and apply stemming\n",
    "    review = [ps.stem(word) for word in review if not word in set(stopwords.words('english'))]  \n",
    "    # Join words back into a single string\n",
    "    review = ' '.join(review)  \n",
    "    return review\n",
    "\n",
    "# Cleaning all reviews in the dataset\n",
    "corpus = [clean_text(review) for review in data['Review']]"
   ]
  },
  {
   "cell_type": "markdown",
   "metadata": {},
   "source": [
    "## 4. TF-IDF Vectorization\n",
    "Converting the cleaned text into numerical features using TF-IDF Vectorization."
   ]
  },
  {
   "cell_type": "code",
   "execution_count": 4,
   "metadata": {},
   "outputs": [],
   "source": [
    "# Vectorizing the text data using TF-IDF\n",
    "tfidf = TfidfVectorizer(max_features=1500)\n",
    "x = tfidf.fit_transform(corpus).toarray()\n",
    "\n",
    "# Defining the dependent variable\n",
    "y = data.iloc[:, 1].values"
   ]
  },
  {
   "cell_type": "markdown",
   "metadata": {},
   "source": [
    "## 5. Splitting the Dataset\n",
    "Splitting the dataset into training and testing sets with an 80-20 split."
   ]
  },
  {
   "cell_type": "code",
   "execution_count": 5,
   "metadata": {},
   "outputs": [],
   "source": [
    "# Splitting the dataset into training and testing sets\n",
    "x_train, x_test, y_train, y_test = train_test_split(x, y, test_size=0.20, random_state=0)"
   ]
  },
  {
   "cell_type": "markdown",
   "metadata": {},
   "source": [
    "## 6. Model Building and Hyperparameter Tuning\n",
    "Building the RandomForestClassifier model and using GridSearchCV to tune hyperparameters.\n",
    "\n"
   ]
  },
  {
   "cell_type": "code",
   "execution_count": 6,
   "metadata": {},
   "outputs": [
    {
     "name": "stdout",
     "output_type": "stream",
     "text": [
      "Fitting 5 folds for each of 72 candidates, totalling 360 fits\n"
     ]
    },
    {
     "name": "stderr",
     "output_type": "stream",
     "text": [
      "C:\\Users\\91757\\anaconda3\\Lib\\site-packages\\sklearn\\model_selection\\_validation.py:540: FitFailedWarning: \n",
      "120 fits failed out of a total of 360.\n",
      "The score on these train-test partitions for these parameters will be set to nan.\n",
      "If these failures are not expected, you can try to debug them by setting error_score='raise'.\n",
      "\n",
      "Below are more details about the failures:\n",
      "--------------------------------------------------------------------------------\n",
      "59 fits failed with the following error:\n",
      "Traceback (most recent call last):\n",
      "  File \"C:\\Users\\91757\\anaconda3\\Lib\\site-packages\\sklearn\\model_selection\\_validation.py\", line 888, in _fit_and_score\n",
      "    estimator.fit(X_train, y_train, **fit_params)\n",
      "  File \"C:\\Users\\91757\\anaconda3\\Lib\\site-packages\\sklearn\\base.py\", line 1466, in wrapper\n",
      "    estimator._validate_params()\n",
      "  File \"C:\\Users\\91757\\anaconda3\\Lib\\site-packages\\sklearn\\base.py\", line 666, in _validate_params\n",
      "    validate_parameter_constraints(\n",
      "  File \"C:\\Users\\91757\\anaconda3\\Lib\\site-packages\\sklearn\\utils\\_param_validation.py\", line 95, in validate_parameter_constraints\n",
      "    raise InvalidParameterError(\n",
      "sklearn.utils._param_validation.InvalidParameterError: The 'max_features' parameter of RandomForestClassifier must be an int in the range [1, inf), a float in the range (0.0, 1.0], a str among {'sqrt', 'log2'} or None. Got 'auto' instead.\n",
      "\n",
      "--------------------------------------------------------------------------------\n",
      "61 fits failed with the following error:\n",
      "Traceback (most recent call last):\n",
      "  File \"C:\\Users\\91757\\anaconda3\\Lib\\site-packages\\sklearn\\model_selection\\_validation.py\", line 888, in _fit_and_score\n",
      "    estimator.fit(X_train, y_train, **fit_params)\n",
      "  File \"C:\\Users\\91757\\anaconda3\\Lib\\site-packages\\sklearn\\base.py\", line 1466, in wrapper\n",
      "    estimator._validate_params()\n",
      "  File \"C:\\Users\\91757\\anaconda3\\Lib\\site-packages\\sklearn\\base.py\", line 666, in _validate_params\n",
      "    validate_parameter_constraints(\n",
      "  File \"C:\\Users\\91757\\anaconda3\\Lib\\site-packages\\sklearn\\utils\\_param_validation.py\", line 95, in validate_parameter_constraints\n",
      "    raise InvalidParameterError(\n",
      "sklearn.utils._param_validation.InvalidParameterError: The 'max_features' parameter of RandomForestClassifier must be an int in the range [1, inf), a float in the range (0.0, 1.0], a str among {'log2', 'sqrt'} or None. Got 'auto' instead.\n",
      "\n",
      "  warnings.warn(some_fits_failed_message, FitFailedWarning)\n",
      "C:\\Users\\91757\\anaconda3\\Lib\\site-packages\\sklearn\\model_selection\\_search.py:1102: UserWarning: One or more of the test scores are non-finite: [    nan     nan     nan 0.72875 0.7375  0.745   0.7     0.71375 0.73375\n",
      "     nan     nan     nan 0.73125 0.74    0.7525  0.73375 0.7525  0.7575\n",
      "     nan     nan     nan 0.75375 0.75    0.74875 0.76375 0.75    0.755\n",
      "     nan     nan     nan 0.7525  0.75    0.75875 0.75875 0.74125 0.755\n",
      "     nan     nan     nan 0.7375  0.72    0.73375 0.71875 0.71625 0.7425\n",
      "     nan     nan     nan 0.73625 0.74875 0.7375  0.7525  0.74375 0.7525\n",
      "     nan     nan     nan 0.73375 0.7525  0.75    0.75    0.75625 0.7475\n",
      "     nan     nan     nan 0.7425  0.75375 0.74625 0.755   0.75625 0.75375]\n",
      "  warnings.warn(\n"
     ]
    }
   ],
   "source": [
    "# Initializing the RandomForestClassifier\n",
    "classifier = RandomForestClassifier()\n",
    "\n",
    "# Defining the hyperparameter grid for tuning\n",
    "param_grid = {\n",
    "    'n_estimators': [50, 100, 200],\n",
    "    'max_features': ['auto', 'sqrt', 'log2'],\n",
    "    'max_depth': [10, 50, 100, None],\n",
    "    'criterion': ['gini', 'entropy']\n",
    "}\n",
    "\n",
    "# Using GridSearchCV to find the best parameters\n",
    "grid_search = GridSearchCV(estimator=classifier, param_grid=param_grid, cv=5, n_jobs=-1, verbose=2)\n",
    "grid_search.fit(x_train, y_train)\n",
    "best_classifier = grid_search.best_estimator_"
   ]
  },
  {
   "cell_type": "markdown",
   "metadata": {},
   "source": [
    "## 7. Model Evaluation\n",
    "Evaluating the model's performance using the confusion matrix, classification report, and accuracy score.\n",
    "\n"
   ]
  },
  {
   "cell_type": "code",
   "execution_count": 7,
   "metadata": {},
   "outputs": [
    {
     "name": "stdout",
     "output_type": "stream",
     "text": [
      "Confusion Matrix:\n",
      "[[87 10]\n",
      " [41 62]]\n",
      "Classification Report:\n",
      "              precision    recall  f1-score   support\n",
      "\n",
      "           0       0.68      0.90      0.77        97\n",
      "           1       0.86      0.60      0.71       103\n",
      "\n",
      "    accuracy                           0.74       200\n",
      "   macro avg       0.77      0.75      0.74       200\n",
      "weighted avg       0.77      0.74      0.74       200\n",
      "\n",
      "Accuracy: 74.50%\n"
     ]
    }
   ],
   "source": [
    "# Predicting the test set results\n",
    "y_pred = best_classifier.predict(x_test)\n",
    "\n",
    "# Confusion Matrix\n",
    "cm = confusion_matrix(y_test, y_pred)\n",
    "print(\"Confusion Matrix:\")\n",
    "print(cm)\n",
    "\n",
    "# Classification Report\n",
    "cr = classification_report(y_test, y_pred)\n",
    "print(\"Classification Report:\")\n",
    "print(cr)\n",
    "\n",
    "# Accuracy Score\n",
    "accuracy = accuracy_score(y_test, y_pred)\n",
    "print(f\"Accuracy: {accuracy * 100:.2f}%\")"
   ]
  },
  {
   "cell_type": "markdown",
   "metadata": {},
   "source": [
    "## 8. Sentiment Prediction Function\n",
    "Creating a function to predict whether a review is positive or negative based on the trained model."
   ]
  },
  {
   "cell_type": "code",
   "execution_count": 8,
   "metadata": {},
   "outputs": [
    {
     "name": "stdout",
     "output_type": "stream",
     "text": [
      "Positive\n",
      "Negative\n"
     ]
    }
   ],
   "source": [
    "# Function to predict the sentiment of a review\n",
    "def predict_review(review):\n",
    "    # Clean the review text\n",
    "    cleaned_review = clean_text(review)\n",
    "    # Transform the review text into TF-IDF vector\n",
    "    review_vector = tfidf.transform([cleaned_review]).toarray()\n",
    "    # Predict sentiment using the best classifier\n",
    "    prediction = best_classifier.predict(review_vector)\n",
    "    return \"Positive\" if prediction == 1 else \"Negative\"\n",
    "\n",
    "# Example predictions\n",
    "print(predict_review(\"The food was awesome\"))\n",
    "print(predict_review(\"The food was horrible and the service was terrible.\"))"
   ]
  },
  {
   "cell_type": "markdown",
   "metadata": {},
   "source": [
    "## 9. Suggesting Areas of Improvement\n",
    "Defining a function to suggest improvements based on specific aspects like food, service, ambiance, and price."
   ]
  },
  {
   "cell_type": "code",
   "execution_count": 9,
   "metadata": {},
   "outputs": [
    {
     "name": "stdout",
     "output_type": "stream",
     "text": [
      "['Improve food']\n"
     ]
    }
   ],
   "source": [
    "# Function to suggest areas of improvement based on the review\n",
    "def suggest_improvements(review):\n",
    "    sia = SentimentIntensityAnalyzer()\n",
    "    aspects = {\n",
    "        'food': ['food', 'meal', 'dish', 'taste'],\n",
    "        'service': ['service', 'staff', 'waiter', 'waitress'],\n",
    "        'ambiance': ['ambiance', 'atmosphere', 'environment'],\n",
    "        'price': ['price', 'cost', 'value']\n",
    "    }\n",
    "    suggestions = []\n",
    "    cleaned_review = clean_text(review)\n",
    "    for aspect, keywords in aspects.items():\n",
    "        if any(word in cleaned_review for word in keywords):\n",
    "            sentiment_score = sia.polarity_scores(review)\n",
    "            if sentiment_score['neg'] > sentiment_score['pos']:\n",
    "                suggestions.append(f\"Improve {aspect}\")\n",
    "    return suggestions if suggestions else [\"No specific improvements needed\"]\n",
    "\n",
    "# Example suggestion\n",
    "print(suggest_improvements(\"The food was horrible \"))"
   ]
  },
  {
   "cell_type": "markdown",
   "metadata": {},
   "source": [
    "## 10. Full Review Analysis\n",
    "Combining sentiment prediction and improvement suggestions into a full analysis function for restaurant reviews.\n",
    "\n"
   ]
  },
  {
   "cell_type": "code",
   "execution_count": 36,
   "metadata": {},
   "outputs": [],
   "source": [
    "# Function to perform full review analysis: sentiment prediction and improvement suggestions\n",
    "def full_review_analysis(review):\n",
    "    sentiment = predict_review(review)\n",
    "    suggestions = suggest_improvements(review) if sentiment == \"Negative\" else [\"No improvements needed\"]\n",
    "    return sentiment, suggestions\n"
   ]
  },
  {
   "cell_type": "markdown",
   "metadata": {},
   "source": [
    "## Example 1"
   ]
  },
  {
   "cell_type": "code",
   "execution_count": 37,
   "metadata": {},
   "outputs": [
    {
     "name": "stdout",
     "output_type": "stream",
     "text": [
      "Review 1:  The food was horrible and the service was terrible.\n",
      "Review Sentiment: Negative\n",
      "Suggestions for Improvement:\n",
      "Improve food\n"
     ]
    }
   ],
   "source": [
    "# Example full analysis\n",
    "review1 = \"The food was horrible and the service was terrible.\"\n",
    "sentiment, suggestions = full_review_analysis(review1)\n",
    "print(\"Review 1: \", review1)\n",
    "print(f\"Review Sentiment: {sentiment}\")\n",
    "print(\"Suggestions for Improvement:\")\n",
    "for suggestion in suggestions:\n",
    "    print(suggestion)"
   ]
  },
  {
   "cell_type": "markdown",
   "metadata": {},
   "source": [
    "## 2"
   ]
  },
  {
   "cell_type": "code",
   "execution_count": 38,
   "metadata": {},
   "outputs": [
    {
     "name": "stdout",
     "output_type": "stream",
     "text": [
      "Review 2:  The food was good and the service was nice.\n",
      "Review Sentiment: Positive\n",
      "Suggestions for Improvement:\n",
      "No improvements needed\n"
     ]
    }
   ],
   "source": [
    "review2 = \"The food was good and the service was nice.\"\n",
    "print(\"Review 2: \", review2)\n",
    "sentiment, suggestions = full_review_analysis(review2)\n",
    "print(f\"Review Sentiment: {sentiment}\")\n",
    "print(\"Suggestions for Improvement:\")\n",
    "for suggestion in suggestions:\n",
    "    print(suggestion)"
   ]
  },
  {
   "cell_type": "code",
   "execution_count": 15,
   "metadata": {},
   "outputs": [
    {
     "name": "stdout",
     "output_type": "stream",
     "text": [
      "Naive Bayes Performance:\n",
      "--------------------------------------------------\n",
      "Accuracy: 0.78\n",
      "\n",
      "Classification Report:\n",
      "              precision    recall  f1-score   support\n",
      "\n",
      "           0       0.78      0.75      0.76        97\n",
      "           1       0.77      0.80      0.78       103\n",
      "\n",
      "    accuracy                           0.78       200\n",
      "   macro avg       0.78      0.77      0.77       200\n",
      "weighted avg       0.78      0.78      0.77       200\n",
      "\n"
     ]
    },
    {
     "data": {
      "image/png": "[encoded data removed]",
      "text/plain": [
       "<Figure size 600x400 with 2 Axes>"
      ]
     },
     "metadata": {},
     "output_type": "display_data"
    }
   ],
   "source": [
    "# Import Naive Bayes (MultinomialNB is best for TF-IDF)\n",
    "from sklearn.naive_bayes import MultinomialNB\n",
    "from sklearn.metrics import accuracy_score, classification_report, confusion_matrix\n",
    "import seaborn as sns\n",
    "\n",
    "# Initialize and train Naive Bayes\n",
    "nb_classifier = MultinomialNB()\n",
    "nb_classifier.fit(x_train, y_train)\n",
    "\n",
    "# Predictions\n",
    "y_pred = nb_classifier.predict(x_test)\n",
    "\n",
    "# Performance Evaluation\n",
    "print(\"Naive Bayes Performance:\\n\" + \"-\"*50)\n",
    "\n",
    "# 1. Accuracy\n",
    "print(f\"Accuracy: {accuracy_score(y_test, y_pred):.2f}\")\n",
    "\n",
    "# 2. Classification Report (Precision, Recall, F1)\n",
    "print(\"\\nClassification Report:\")\n",
    "print(classification_report(y_test, y_pred))\n",
    "\n",
    "# 3. Confusion Matrix Visualization\n",
    "plt.figure(figsize=(6,4))\n",
    "sns.heatmap(confusion_matrix(y_test, y_pred), \n",
    "            annot=True, fmt='d', cmap='Blues',\n",
    "            xticklabels=['Negative', 'Positive'], \n",
    "            yticklabels=['Negative', 'Positive'])\n",
    "plt.title('Confusion Matrix')\n",
    "plt.xlabel('Predicted')\n",
    "plt.ylabel('Actual')\n",
    "plt.show()"
   ]
  },
  {
   "cell_type": "code",
   "execution_count": 18,
   "metadata": {},
   "outputs": [
    {
     "name": "stdout",
     "output_type": "stream",
     "text": [
      "[0]\tvalidation_0-logloss:0.66325\n",
      "[1]\tvalidation_0-logloss:0.64535\n",
      "[2]\tvalidation_0-logloss:0.63163\n",
      "[3]\tvalidation_0-logloss:0.62139\n",
      "[4]\tvalidation_0-logloss:0.61265\n",
      "[5]\tvalidation_0-logloss:0.60800\n",
      "[6]\tvalidation_0-logloss:0.60415\n",
      "[7]\tvalidation_0-logloss:0.59545\n",
      "[8]\tvalidation_0-logloss:0.59040\n",
      "[9]\tvalidation_0-logloss:0.58295\n",
      "[10]\tvalidation_0-logloss:0.57830\n",
      "[11]\tvalidation_0-logloss:0.57338\n",
      "[12]\tvalidation_0-logloss:0.57126\n",
      "[13]\tvalidation_0-logloss:0.56753\n",
      "[14]\tvalidation_0-logloss:0.56718\n",
      "[15]\tvalidation_0-logloss:0.55938\n",
      "[16]\tvalidation_0-logloss:0.55639\n",
      "[17]\tvalidation_0-logloss:0.55557\n",
      "[18]\tvalidation_0-logloss:0.55381\n",
      "[19]\tvalidation_0-logloss:0.55136\n",
      "[20]\tvalidation_0-logloss:0.55100\n",
      "[21]\tvalidation_0-logloss:0.55141\n",
      "[22]\tvalidation_0-logloss:0.55130\n",
      "[23]\tvalidation_0-logloss:0.55336\n",
      "[24]\tvalidation_0-logloss:0.55079\n",
      "[25]\tvalidation_0-logloss:0.54843\n",
      "[26]\tvalidation_0-logloss:0.54788\n",
      "[27]\tvalidation_0-logloss:0.54644\n",
      "[28]\tvalidation_0-logloss:0.54643\n",
      "[29]\tvalidation_0-logloss:0.54574\n",
      "[30]\tvalidation_0-logloss:0.54506\n",
      "[31]\tvalidation_0-logloss:0.54382\n",
      "[32]\tvalidation_0-logloss:0.54090\n",
      "[33]\tvalidation_0-logloss:0.54065\n",
      "[34]\tvalidation_0-logloss:0.54243\n",
      "[35]\tvalidation_0-logloss:0.54169\n",
      "[36]\tvalidation_0-logloss:0.54006\n",
      "[37]\tvalidation_0-logloss:0.54099\n",
      "[38]\tvalidation_0-logloss:0.53742\n",
      "[39]\tvalidation_0-logloss:0.53914\n",
      "[40]\tvalidation_0-logloss:0.53994\n",
      "[41]\tvalidation_0-logloss:0.54008\n",
      "[42]\tvalidation_0-logloss:0.54194\n",
      "[43]\tvalidation_0-logloss:0.54242\n",
      "[44]\tvalidation_0-logloss:0.54202\n",
      "[45]\tvalidation_0-logloss:0.54266\n",
      "[46]\tvalidation_0-logloss:0.54330\n",
      "[47]\tvalidation_0-logloss:0.54252\n",
      "[48]\tvalidation_0-logloss:0.54251\n",
      "XGBoost Performance:\n",
      "--------------------------------------------------\n",
      "Accuracy: 0.70\n",
      "\n",
      "Classification Report:\n",
      "              precision    recall  f1-score   support\n",
      "\n",
      "           0       0.64      0.90      0.75        97\n",
      "           1       0.84      0.52      0.65       103\n",
      "\n",
      "    accuracy                           0.70       200\n",
      "   macro avg       0.74      0.71      0.70       200\n",
      "weighted avg       0.74      0.70      0.70       200\n",
      "\n"
     ]
    },
    {
     "data": {
      "image/png": "[encoded data removed]",
      "text/plain": [
       "<Figure size 600x400 with 2 Axes>"
      ]
     },
     "metadata": {},
     "output_type": "display_data"
    },
    {
     "data": {
      "image/png": "[encoded data removed]",
      "text/plain": [
       "<Figure size 1000x600 with 1 Axes>"
      ]
     },
     "metadata": {},
     "output_type": "display_data"
    }
   ],
   "source": [
    "from xgboost import XGBClassifier\n",
    "from sklearn.metrics import classification_report, confusion_matrix\n",
    "import matplotlib.pyplot as plt\n",
    "import seaborn as sns\n",
    "\n",
    "# Initialize XGBoost with basic parameters\n",
    "xgb = XGBClassifier(\n",
    "    objective='binary:logistic',\n",
    "    random_state=42,\n",
    "    eval_metric='logloss',\n",
    "    early_stopping_rounds=10,\n",
    "    n_estimators=100\n",
    ")\n",
    "\n",
    "# Train with validation set for early stopping\n",
    "xgb.fit(x_train, y_train,\n",
    "        eval_set=[(x_test, y_test)],\n",
    "        verbose=True)\n",
    "\n",
    "# Predictions\n",
    "y_pred = xgb.predict(x_test)\n",
    "\n",
    "# Performance Evaluation\n",
    "print(\"XGBoost Performance:\\n\" + \"-\"*50)\n",
    "print(f\"Accuracy: {accuracy_score(y_test, y_pred):.2f}\")\n",
    "print(\"\\nClassification Report:\")\n",
    "print(classification_report(y_test, y_pred))\n",
    "\n",
    "# Confusion Matrix\n",
    "plt.figure(figsize=(6,4))\n",
    "sns.heatmap(confusion_matrix(y_test, y_pred),\n",
    "            annot=True, fmt='d', cmap='Reds',\n",
    "            xticklabels=['Negative', 'Positive'],\n",
    "            yticklabels=['Negative', 'Positive'])\n",
    "plt.title('XGBoost Confusion Matrix')\n",
    "plt.show()\n",
    "\n",
    "# Feature Importance (Top 20)\n",
    "plt.figure(figsize=(10,6))\n",
    "sorted_idx = xgb.feature_importances_.argsort()[::-1][:20]\n",
    "plt.barh([tfidf.get_feature_names_out()[i] for i in sorted_idx],\n",
    "         xgb.feature_importances_[sorted_idx])\n",
    "plt.title(\"Top 20 Important Features\")\n",
    "plt.show()"
   ]
  },
  {
   "cell_type": "code",
   "execution_count": 17,
   "metadata": {},
   "outputs": [
    {
     "name": "stderr",
     "output_type": "stream",
     "text": [
      "C:\\Users\\91757\\anaconda3\\Lib\\site-packages\\sklearn\\model_selection\\_validation.py:540: FitFailedWarning: \n",
      "1 fits failed out of a total of 243.\n",
      "The score on these train-test partitions for these parameters will be set to nan.\n",
      "If these failures are not expected, you can try to debug them by setting error_score='raise'.\n",
      "\n",
      "Below are more details about the failures:\n",
      "--------------------------------------------------------------------------------\n",
      "1 fits failed with the following error:\n",
      "Traceback (most recent call last):\n",
      "  File \"C:\\Users\\91757\\anaconda3\\Lib\\site-packages\\sklearn\\model_selection\\_validation.py\", line 888, in _fit_and_score\n",
      "    estimator.fit(X_train, y_train, **fit_params)\n",
      "  File \"C:\\Users\\91757\\anaconda3\\Lib\\site-packages\\xgboost\\core.py\", line 729, in inner_f\n",
      "    return func(**kwargs)\n",
      "           ^^^^^^^^^^^^^^\n",
      "  File \"C:\\Users\\91757\\anaconda3\\Lib\\site-packages\\xgboost\\sklearn.py\", line 1663, in fit\n",
      "    train_dmatrix, evals = _wrap_evaluation_matrices(\n",
      "                           ^^^^^^^^^^^^^^^^^^^^^^^^^^\n",
      "  File \"C:\\Users\\91757\\anaconda3\\Lib\\site-packages\\xgboost\\sklearn.py\", line 628, in _wrap_evaluation_matrices\n",
      "    train_dmatrix = create_dmatrix(\n",
      "                    ^^^^^^^^^^^^^^^\n",
      "  File \"C:\\Users\\91757\\anaconda3\\Lib\\site-packages\\xgboost\\sklearn.py\", line 1137, in _create_dmatrix\n",
      "    return QuantileDMatrix(\n",
      "           ^^^^^^^^^^^^^^^^\n",
      "  File \"C:\\Users\\91757\\anaconda3\\Lib\\site-packages\\xgboost\\core.py\", line 729, in inner_f\n",
      "    return func(**kwargs)\n",
      "           ^^^^^^^^^^^^^^\n",
      "  File \"C:\\Users\\91757\\anaconda3\\Lib\\site-packages\\xgboost\\core.py\", line 1614, in __init__\n",
      "    self._init(\n",
      "  File \"C:\\Users\\91757\\anaconda3\\Lib\\site-packages\\xgboost\\core.py\", line 1678, in _init\n",
      "    it.reraise()\n",
      "  File \"C:\\Users\\91757\\anaconda3\\Lib\\site-packages\\xgboost\\core.py\", line 572, in reraise\n",
      "    raise exc  # pylint: disable=raising-bad-type\n",
      "    ^^^^^^^^^\n",
      "  File \"C:\\Users\\91757\\anaconda3\\Lib\\site-packages\\xgboost\\core.py\", line 553, in _handle_exception\n",
      "    return fn()\n",
      "           ^^^^\n",
      "  File \"C:\\Users\\91757\\anaconda3\\Lib\\site-packages\\xgboost\\core.py\", line 640, in <lambda>\n",
      "    return self._handle_exception(lambda: int(self.next(input_data)), 0)\n",
      "                                              ^^^^^^^^^^^^^^^^^^^^^\n",
      "  File \"C:\\Users\\91757\\anaconda3\\Lib\\site-packages\\xgboost\\data.py\", line 1654, in next\n",
      "    input_data(**self.kwargs)\n",
      "  File \"C:\\Users\\91757\\anaconda3\\Lib\\site-packages\\xgboost\\core.py\", line 729, in inner_f\n",
      "    return func(**kwargs)\n",
      "           ^^^^^^^^^^^^^^\n",
      "  File \"C:\\Users\\91757\\anaconda3\\Lib\\site-packages\\xgboost\\core.py\", line 629, in input_data\n",
      "    self.proxy.set_info(\n",
      "  File \"C:\\Users\\91757\\anaconda3\\Lib\\site-packages\\xgboost\\core.py\", line 729, in inner_f\n",
      "    return func(**kwargs)\n",
      "           ^^^^^^^^^^^^^^\n",
      "  File \"C:\\Users\\91757\\anaconda3\\Lib\\site-packages\\xgboost\\core.py\", line 961, in set_info\n",
      "    self.set_label(label)\n",
      "  File \"C:\\Users\\91757\\anaconda3\\Lib\\site-packages\\xgboost\\core.py\", line 1099, in set_label\n",
      "    dispatch_meta_backend(self, label, \"label\", \"float\")\n",
      "  File \"C:\\Users\\91757\\anaconda3\\Lib\\site-packages\\xgboost\\data.py\", line 1586, in dispatch_meta_backend\n",
      "    _meta_from_numpy(data, name, dtype, handle)\n",
      "  File \"C:\\Users\\91757\\anaconda3\\Lib\\site-packages\\xgboost\\data.py\", line 1533, in _meta_from_numpy\n",
      "    _check_call(_LIB.XGDMatrixSetInfoFromInterface(handle, c_str(field), interface_str))\n",
      "  File \"C:\\Users\\91757\\anaconda3\\Lib\\site-packages\\xgboost\\core.py\", line 310, in _check_call\n",
      "    raise XGBoostError(py_str(_LIB.XGBGetLastError()))\n",
      "xgboost.core.XGBoostError: [00:42:21] C:\\actions-runner\\_work\\xgboost\\xgboost\\src\\data\\array_interface.cu:44: Check failed: err == cudaGetLastError() (0 vs. 46) : \n",
      "\n",
      "  warnings.warn(some_fits_failed_message, FitFailedWarning)\n",
      "C:\\Users\\91757\\anaconda3\\Lib\\site-packages\\sklearn\\model_selection\\_search.py:1102: UserWarning: One or more of the test scores are non-finite: [0.56333824        nan 0.55750012 0.61043184 0.60543209 0.58422655\n",
      " 0.6262766  0.61935702 0.62615375 0.66704276 0.66906866 0.66502561\n",
      " 0.66150316 0.66943037 0.66116503 0.65908635 0.6756463  0.67271241\n",
      " 0.67947578 0.68189594 0.663325   0.66626064 0.66803455 0.66439442\n",
      " 0.67198906 0.67385316 0.66473893 0.5475703  0.54000321 0.5446572\n",
      " 0.57770957 0.5835905  0.57259578 0.62530442 0.62536149 0.62355678\n",
      " 0.66952678 0.67263161 0.66620459 0.67082876 0.67257677 0.6658265\n",
      " 0.66300109 0.67501831 0.67654069 0.66050412 0.66910089 0.6622932\n",
      " 0.67874248 0.67097608 0.66778574 0.6671834  0.67080137 0.66612463\n",
      " 0.53739523 0.53739523 0.53739523 0.57491169 0.56427263 0.57776164\n",
      " 0.60491858 0.62138683 0.59632439 0.66536021 0.67243585 0.66414706\n",
      " 0.66582565 0.67412641 0.67120606 0.66678146 0.68249092 0.672931\n",
      " 0.67167888 0.68022247 0.66814784 0.67791398 0.67154374 0.66343941\n",
      " 0.67382015 0.6844351  0.6733416 ]\n",
      "  warnings.warn(\n"
     ]
    },
    {
     "name": "stdout",
     "output_type": "stream",
     "text": [
      "Best Parameters: {'colsample_bytree': 1.0, 'learning_rate': 0.2, 'max_depth': 7, 'subsample': 0.8}\n"
     ]
    }
   ],
   "source": [
    "from sklearn.model_selection import GridSearchCV\n",
    "\n",
    "param_grid = {\n",
    "    'max_depth': [3, 5, 7],\n",
    "    'learning_rate': [0.01, 0.1, 0.2],\n",
    "    'subsample': [0.6, 0.8, 1.0],\n",
    "    'colsample_bytree': [0.6, 0.8, 1.0]\n",
    "}\n",
    "\n",
    "grid_search = GridSearchCV(XGBClassifier(random_state=42),\n",
    "                         param_grid,\n",
    "                         cv=3,\n",
    "                         scoring='f1',\n",
    "                         n_jobs=-1)\n",
    "\n",
    "grid_search.fit(x_train, y_train)\n",
    "\n",
    "print(\"Best Parameters:\", grid_search.best_params_)\n",
    "best_xgb = grid_search.best_estimator_"
   ]
  },
  {
   "cell_type": "code",
   "execution_count": null,
   "metadata": {},
   "outputs": [],
   "source": []
  }
 ],
 "metadata": {
  "application/vnd.databricks.v1+notebook": {
   "dashboards": [],
   "environmentMetadata": null,
   "language": "python",
   "notebookMetadata": {
    "pythonIndentUnit": 4
   },
   "notebookName": "nlp",
   "widgets": {}
  },
  "kernelspec": {
   "display_name": "Python 3 (ipykernel)",
   "language": "python",
   "name": "python3"
  },
  "language_info": {
   "codemirror_mode": {
    "name": "ipython",
    "version": 3
   },
   "file_extension": ".py",
   "mimetype": "text/x-python",
   "name": "python",
   "nbconvert_exporter": "python",
   "pygments_lexer": "ipython3",
   "version": "3.12.7"
  }
 },
 "nbformat": 4,
 "nbformat_minor": 4
}
